{
 "cells": [
  {
   "cell_type": "code",
   "execution_count": 11,
   "id": "dress-nashville",
   "metadata": {},
   "outputs": [],
   "source": [
    "import pandas as pd\n",
    "from itertools import combinations\n",
    "from googlesearch import search"
   ]
  },
  {
   "cell_type": "code",
   "execution_count": 12,
   "id": "accepted-fireplace",
   "metadata": {},
   "outputs": [
    {
     "data": {
      "text/plain": [
       "[('Huawei', 'huawei.com'),\n",
       " ('Huawei', 'baesystems.com'),\n",
       " ('Huawei', 'axis.com'),\n",
       " ('Huawei', 'boschsecurity.com'),\n",
       " ('Huawei', 'dahuasecurity.com')]"
      ]
     },
     "execution_count": 12,
     "metadata": {},
     "output_type": "execute_result"
    }
   ],
   "source": [
    "# First load all Comapnies & URLs to compat\n",
    "sheets = (\"./data/companies.csv\", \"./data/companies.csv\")\n",
    "dfs = []\n",
    "\n",
    "for sheet in sheets:\n",
    "    df = pd.read_csv(sheet)\n",
    "    dfs.append(df)\n",
    "    \n",
    "df = pd.concat(dfs, axis=0, join='inner', ignore_index=False)\n",
    "\n",
    "# importing product\n",
    "from itertools import product\n",
    "  \n",
    "# apply product method\n",
    "pairs  = list(product(df['name'], df['url']))\n",
    "\n",
    "pairs[:5]"
   ]
  },
  {
   "cell_type": "markdown",
   "id": "pointed-lemon",
   "metadata": {
    "tags": []
   },
   "source": [
    "# Create all search queries to execute"
   ]
  },
  {
   "cell_type": "code",
   "execution_count": 13,
   "id": "dependent-bronze",
   "metadata": {},
   "outputs": [
    {
     "data": {
      "text/plain": [
       "['\"Huawei\" AND (partner OR collaboration OR partnership OR together OR joint-venture OR plattform OR operates OR colloborates OR signed OR announced) site:*.\"huawei.com\"',\n",
       " '\"Huawei\" AND (partner OR collaboration OR partnership OR together OR joint-venture OR plattform OR operates OR colloborates OR signed OR announced) site:*.\"baesystems.com\"',\n",
       " '\"Huawei\" AND (partner OR collaboration OR partnership OR together OR joint-venture OR plattform OR operates OR colloborates OR signed OR announced) site:*.\"axis.com\"',\n",
       " '\"Huawei\" AND (partner OR collaboration OR partnership OR together OR joint-venture OR plattform OR operates OR colloborates OR signed OR announced) site:*.\"boschsecurity.com\"',\n",
       " '\"Huawei\" AND (partner OR collaboration OR partnership OR together OR joint-venture OR plattform OR operates OR colloborates OR signed OR announced) site:*.\"dahuasecurity.com\"']"
      ]
     },
     "execution_count": 13,
     "metadata": {},
     "output_type": "execute_result"
    }
   ],
   "source": [
    "connectors = \"partner OR collaboration OR partnership OR together OR joint-venture OR plattform OR operates OR colloborates OR signed OR announced\"\n",
    "queries = []\n",
    "\n",
    "for pair in pairs:\n",
    "    query = \"%s%s%s %s %s%s%s %s%s%s\" %('\"',pair[0],'\"','AND', \"(\" , connectors,\")\", 'site:*.\"',pair[1],'\"')\n",
    "    queries.append(query)\n",
    "\n",
    "queries[:5]"
   ]
  },
  {
   "cell_type": "code",
   "execution_count": 15,
   "id": "checked-attraction",
   "metadata": {},
   "outputs": [
    {
     "name": "stdout",
     "output_type": "stream",
     "text": [
      "HTTP Error 429: Too Many Requests\n",
      "waiting 60 seconds efore retrying\n",
      "HTTP Error 429: Too Many Requests\n",
      "waiting 60 seconds efore retrying\n",
      "HTTP Error 429: Too Many Requests\n",
      "waiting 60 seconds efore retrying\n",
      "HTTP Error 429: Too Many Requests\n",
      "waiting 60 seconds efore retrying\n",
      "HTTP Error 429: Too Many Requests\n",
      "waiting 60 seconds efore retrying\n"
     ]
    },
    {
     "data": {
      "text/plain": [
       "[]"
      ]
     },
     "execution_count": 15,
     "metadata": {},
     "output_type": "execute_result"
    }
   ],
   "source": [
    "import time\n",
    "results = []\n",
    "delay = 10\n",
    "for query in queries[:5]:\n",
    "    try:\n",
    "        for s in search (query, lang='de', tbs='0', safe='off', num=2, start=0, stop=3, pause=2.0):\n",
    "            results.append(s)\n",
    "            time.sleep(delay)\n",
    "    except Exception as e:\n",
    "        delay = delay + 10\n",
    "        print(e)\n",
    "        print(\"waiting 60 seconds before retrying\")\n",
    "        time.sleep(60+delay)\n",
    "        \n",
    "results"
   ]
  },
  {
   "cell_type": "code",
   "execution_count": null,
   "id": "actual-updating",
   "metadata": {},
   "outputs": [],
   "source": []
  },
  {
   "cell_type": "code",
   "execution_count": null,
   "id": "ranking-margin",
   "metadata": {},
   "outputs": [],
   "source": []
  }
 ],
 "metadata": {
  "kernelspec": {
   "display_name": "Python 3",
   "language": "python",
   "name": "python3"
  },
  "language_info": {
   "codemirror_mode": {
    "name": "ipython",
    "version": 3
   },
   "file_extension": ".py",
   "mimetype": "text/x-python",
   "name": "python",
   "nbconvert_exporter": "python",
   "pygments_lexer": "ipython3",
   "version": "3.7.10"
  }
 },
 "nbformat": 4,
 "nbformat_minor": 5
}
