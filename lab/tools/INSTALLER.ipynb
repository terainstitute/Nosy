{
 "cells": [
  {
   "cell_type": "markdown",
   "id": "gross-ecology",
   "metadata": {},
   "source": [
    "# Install Tools"
   ]
  },
  {
   "cell_type": "code",
   "execution_count": 5,
   "id": "fresh-secondary",
   "metadata": {},
   "outputs": [
    {
     "name": "stdout",
     "output_type": "stream",
     "text": [
      "mkdir: cannot create directory ‘../data’: File exists\n",
      "fatal: destination path './lib/CloudScraper' already exists and is not an empty directory.\n",
      "Requirement already satisfied: rfc3987 in /usr/local/lib/python3.9/site-packages (from -r requirements.txt (line 1)) (1.3.8)\n",
      "Requirement already satisfied: termcolor in /usr/local/lib/python3.9/site-packages (from -r requirements.txt (line 2)) (1.1.0)\n",
      "Requirement already satisfied: requests==2.20.0 in /usr/local/lib/python3.9/site-packages (from -r requirements.txt (line 3)) (2.20.0)\n",
      "Requirement already satisfied: BeautifulSoup4 in /usr/local/lib/python3.9/site-packages (from -r requirements.txt (line 4)) (4.9.3)\n",
      "Requirement already satisfied: chardet<3.1.0,>=3.0.2 in /usr/local/lib/python3.9/site-packages (from requests==2.20.0->-r requirements.txt (line 3)) (3.0.4)\n",
      "Requirement already satisfied: urllib3<1.25,>=1.21.1 in /usr/local/lib/python3.9/site-packages (from requests==2.20.0->-r requirements.txt (line 3)) (1.24.3)\n",
      "Requirement already satisfied: idna<2.8,>=2.5 in /usr/local/lib/python3.9/site-packages (from requests==2.20.0->-r requirements.txt (line 3)) (2.7)\n",
      "Requirement already satisfied: certifi>=2017.4.17 in /usr/local/lib/python3.9/site-packages (from requests==2.20.0->-r requirements.txt (line 3)) (2020.12.5)\n",
      "Requirement already satisfied: soupsieve>1.2 in /usr/local/lib/python3.9/site-packages (from BeautifulSoup4->-r requirements.txt (line 4)) (2.2)\n",
      "mkdir: cannot create directory ‘../data/Cloudscraper’: File exists\n",
      "Cloning into './lib/Photon'...\n",
      "remote: Enumerating objects: 30, done.\u001b[K\n",
      "remote: Counting objects: 100% (30/30), done.\u001b[K\n",
      "remote: Compressing objects: 100% (27/27), done.\u001b[K\n",
      "remote: Total 1076 (delta 4), reused 19 (delta 0), pack-reused 1046\u001b[K\n",
      "Receiving objects: 100% (1076/1076), 355.40 KiB | 5.00 MiB/s, done.\n",
      "Resolving deltas: 100% (580/580), done.\n",
      "Requirement already satisfied: requests in /usr/local/lib/python3.9/site-packages (from -r requirements.txt (line 1)) (2.20.0)\n",
      "Requirement already satisfied: urllib3 in /usr/local/lib/python3.9/site-packages (from -r requirements.txt (line 3)) (1.24.3)\n",
      "Requirement already satisfied: tld in /usr/local/lib/python3.9/site-packages (from -r requirements.txt (line 4)) (0.12.5)\n",
      "Requirement already satisfied: idna<2.8,>=2.5 in /usr/local/lib/python3.9/site-packages (from requests->-r requirements.txt (line 1)) (2.7)\n",
      "Requirement already satisfied: certifi>=2017.4.17 in /usr/local/lib/python3.9/site-packages (from requests->-r requirements.txt (line 1)) (2020.12.5)\n",
      "Requirement already satisfied: chardet<3.1.0,>=3.0.2 in /usr/local/lib/python3.9/site-packages (from requests->-r requirements.txt (line 1)) (3.0.4)\n",
      "Requirement already satisfied: PySocks!=1.5.7,>=1.5.6 in /usr/local/lib/python3.9/site-packages (from requests->-r requirements.txt (line 1)) (1.7.1)\n",
      "mkdir: cannot create directory ‘../data/Photon’: File exists\n"
     ]
    }
   ],
   "source": [
    "!mkdir ../data\n",
    "## Cloudscraper\n",
    "!git clone https://github.com/jordanpotti/CloudScraper.git ./lib/CloudScraper\n",
    "!cd ./lib/CloudScraper && pip install -r requirements.txt\n",
    "!mkdir ../data/Cloudscraper\n",
    "## Photon\n",
    "!git clone https://github.com/s0md3v/Photon.git ./lib/Photon\n",
    "!cd ./lib/Photon && pip install -r requirements.txt\n",
    "!mkdir ../data/Photon"
   ]
  },
  {
   "cell_type": "code",
   "execution_count": null,
   "id": "split-method",
   "metadata": {},
   "outputs": [],
   "source": []
  }
 ],
 "metadata": {
  "kernelspec": {
   "display_name": "Python 3",
   "language": "python",
   "name": "python3"
  },
  "language_info": {
   "codemirror_mode": {
    "name": "ipython",
    "version": 3
   },
   "file_extension": ".py",
   "mimetype": "text/x-python",
   "name": "python",
   "nbconvert_exporter": "python",
   "pygments_lexer": "ipython3",
   "version": "3.9.2"
  }
 },
 "nbformat": 4,
 "nbformat_minor": 5
}
