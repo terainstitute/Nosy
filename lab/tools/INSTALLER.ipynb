{
 "cells": [
  {
   "cell_type": "markdown",
   "id": "corresponding-crash",
   "metadata": {},
   "source": [
    "# Install Tools"
   ]
  },
  {
   "cell_type": "code",
   "execution_count": 1,
   "id": "august-arrow",
   "metadata": {},
   "outputs": [
    {
     "name": "stdout",
     "output_type": "stream",
     "text": [
      "Cloning into './lib/CloudScraper'...\n",
      "remote: Enumerating objects: 98, done.\u001b[K\n",
      "remote: Total 98 (delta 0), reused 0 (delta 0), pack-reused 98\u001b[K\n",
      "Unpacking objects: 100% (98/98), done.\n",
      "Collecting rfc3987\n",
      "  Downloading rfc3987-1.3.8-py2.py3-none-any.whl (13 kB)\n",
      "Collecting termcolor\n",
      "  Downloading termcolor-1.1.0.tar.gz (3.9 kB)\n",
      "Collecting requests==2.20.0\n",
      "  Downloading requests-2.20.0-py2.py3-none-any.whl (60 kB)\n",
      "\u001b[K     |████████████████████████████████| 60 kB 3.0 MB/s eta 0:00:011\n",
      "\u001b[?25hCollecting BeautifulSoup4\n",
      "  Downloading beautifulsoup4-4.9.3-py3-none-any.whl (115 kB)\n",
      "\u001b[K     |████████████████████████████████| 115 kB 5.1 MB/s eta 0:00:01\n",
      "\u001b[?25hCollecting chardet<3.1.0,>=3.0.2\n",
      "  Downloading chardet-3.0.4-py2.py3-none-any.whl (133 kB)\n",
      "\u001b[K     |████████████████████████████████| 133 kB 5.5 MB/s eta 0:00:01\n",
      "\u001b[?25hRequirement already satisfied: certifi>=2017.4.17 in /usr/local/lib/python3.9/site-packages (from requests==2.20.0->-r requirements.txt (line 3)) (2020.12.5)\n",
      "Collecting urllib3<1.25,>=1.21.1\n",
      "  Downloading urllib3-1.24.3-py2.py3-none-any.whl (118 kB)\n",
      "\u001b[K     |████████████████████████████████| 118 kB 5.7 MB/s eta 0:00:01\n",
      "\u001b[?25hCollecting idna<2.8,>=2.5\n",
      "  Downloading idna-2.7-py2.py3-none-any.whl (58 kB)\n",
      "\u001b[K     |████████████████████████████████| 58 kB 4.6 MB/s eta 0:00:01\n",
      "\u001b[?25hCollecting soupsieve>1.2\n",
      "  Downloading soupsieve-2.2-py3-none-any.whl (33 kB)\n",
      "Building wheels for collected packages: termcolor\n",
      "  Building wheel for termcolor (setup.py) ... \u001b[?25ldone\n",
      "\u001b[?25h  Created wheel for termcolor: filename=termcolor-1.1.0-py3-none-any.whl size=4829 sha256=d45482144012df49cceaaa15486ab74468d0a8f0c883f42b414168c8e74eccb1\n",
      "  Stored in directory: /root/.cache/pip/wheels/b6/0d/90/0d1bbd99855f99cb2f6c2e5ff96f8023fad8ec367695f7d72d\n",
      "Successfully built termcolor\n",
      "Installing collected packages: urllib3, soupsieve, idna, chardet, termcolor, rfc3987, requests, BeautifulSoup4\n",
      "  Attempting uninstall: urllib3\n",
      "    Found existing installation: urllib3 1.26.4\n",
      "    Uninstalling urllib3-1.26.4:\n",
      "      Successfully uninstalled urllib3-1.26.4\n",
      "  Attempting uninstall: idna\n",
      "    Found existing installation: idna 2.10\n",
      "    Uninstalling idna-2.10:\n",
      "      Successfully uninstalled idna-2.10\n",
      "  Attempting uninstall: chardet\n",
      "    Found existing installation: chardet 4.0.0\n",
      "    Uninstalling chardet-4.0.0:\n",
      "      Successfully uninstalled chardet-4.0.0\n",
      "  Attempting uninstall: requests\n",
      "    Found existing installation: requests 2.25.1\n",
      "    Uninstalling requests-2.25.1:\n",
      "      Successfully uninstalled requests-2.25.1\n",
      "\u001b[31mERROR: pip's dependency resolver does not currently take into account all the packages that are installed. This behaviour is the source of the following dependency conflicts.\n",
      "anyio 2.2.0 requires idna>=2.8, but you have idna 2.7 which is incompatible.\u001b[0m\n",
      "Successfully installed BeautifulSoup4-4.9.3 chardet-3.0.4 idna-2.7 requests-2.20.0 rfc3987-1.3.8 soupsieve-2.2 termcolor-1.1.0 urllib3-1.24.3\n",
      "Cloning into './lib/Photon'...\n",
      "remote: Enumerating objects: 30, done.\u001b[K\n",
      "remote: Counting objects: 100% (30/30), done.\u001b[K\n",
      "remote: Compressing objects: 100% (27/27), done.\u001b[K\n",
      "remote: Total 1076 (delta 4), reused 19 (delta 0), pack-reused 1046\u001b[K\n",
      "Receiving objects: 100% (1076/1076), 355.40 KiB | 1.35 MiB/s, done.\n",
      "Resolving deltas: 100% (580/580), done.\n",
      "Requirement already satisfied: requests in /usr/local/lib/python3.9/site-packages (from -r requirements.txt (line 1)) (2.20.0)\n",
      "Requirement already satisfied: urllib3 in /usr/local/lib/python3.9/site-packages (from -r requirements.txt (line 3)) (1.24.3)\n",
      "Collecting tld\n",
      "  Downloading tld-0.12.5-py39-none-any.whl (408 kB)\n",
      "\u001b[K     |████████████████████████████████| 408 kB 3.4 MB/s eta 0:00:01\n",
      "\u001b[?25hRequirement already satisfied: chardet<3.1.0,>=3.0.2 in /usr/local/lib/python3.9/site-packages (from requests->-r requirements.txt (line 1)) (3.0.4)\n",
      "Requirement already satisfied: idna<2.8,>=2.5 in /usr/local/lib/python3.9/site-packages (from requests->-r requirements.txt (line 1)) (2.7)\n",
      "Requirement already satisfied: certifi>=2017.4.17 in /usr/local/lib/python3.9/site-packages (from requests->-r requirements.txt (line 1)) (2020.12.5)\n",
      "Collecting PySocks!=1.5.7,>=1.5.6\n",
      "  Downloading PySocks-1.7.1-py3-none-any.whl (16 kB)\n",
      "Installing collected packages: PySocks, tld\n",
      "Successfully installed PySocks-1.7.1 tld-0.12.5\n"
     ]
    }
   ],
   "source": [
    "!mkdir ../data\n",
    "## Cloudscraper\n",
    "!git clone https://github.com/jordanpotti/CloudScraper.git ./lib/CloudScraper\n",
    "!cd ./lib/CloudScraper && pip install -r requirements.txt\n",
    "!mkdir ../data/Cloudscraper\n",
    "## Photon\n",
    "!git clone https://github.com/s0md3v/Photon.git ./lib/Photon\n",
    "!cd ./lib/Photon && pip install -r requirements.txt\n",
    "!mkdir ../data/Photon"
   ]
  },
  {
   "cell_type": "code",
   "execution_count": null,
   "id": "signal-theorem",
   "metadata": {},
   "outputs": [],
   "source": []
  }
 ],
 "metadata": {
  "kernelspec": {
   "display_name": "Python 3",
   "language": "python",
   "name": "python3"
  },
  "language_info": {
   "codemirror_mode": {
    "name": "ipython",
    "version": 3
   },
   "file_extension": ".py",
   "mimetype": "text/x-python",
   "name": "python",
   "nbconvert_exporter": "python",
   "pygments_lexer": "ipython3",
   "version": "3.9.2"
  }
 },
 "nbformat": 4,
 "nbformat_minor": 5
}
