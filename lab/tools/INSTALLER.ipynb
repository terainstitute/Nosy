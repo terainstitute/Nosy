{
 "cells": [
  {
   "cell_type": "markdown",
   "id": "indie-clarity",
   "metadata": {},
   "source": [
    "# Install Tools\n",
    "## Run this to install third party library tools in the LIB Folder"
   ]
  },
  {
   "cell_type": "code",
   "execution_count": null,
   "id": "suited-browse",
   "metadata": {},
   "outputs": [],
   "source": [
    "!mkdir ../data\n",
    "## Cloudscraper\n",
    "!git clone https://github.com/jordanpotti/CloudScraper.git ./lib/CloudScraper\n",
    "!cd ./lib/CloudScraper && pip install -r requirements.txt\n",
    "!mkdir ../data/Cloudscraper\n",
    "## Photon\n",
    "!git clone https://github.com/s0md3v/Photon.git ./lib/Photon\n",
    "!cd ./lib/Photon && pip install -r requirements.txt\n",
    "!mkdir ../data/Photon"
   ]
  },
  {
   "cell_type": "code",
   "execution_count": null,
   "id": "green-witch",
   "metadata": {},
   "outputs": [],
   "source": []
  }
 ],
 "metadata": {
  "kernelspec": {
   "display_name": "Python 3",
   "language": "python",
   "name": "python3"
  },
  "language_info": {
   "codemirror_mode": {
    "name": "ipython",
    "version": 3
   },
   "file_extension": ".py",
   "mimetype": "text/x-python",
   "name": "python",
   "nbconvert_exporter": "python",
   "pygments_lexer": "ipython3",
   "version": "3.7.10"
  }
 },
 "nbformat": 4,
 "nbformat_minor": 5
}
