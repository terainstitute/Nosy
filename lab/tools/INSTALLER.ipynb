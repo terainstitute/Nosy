{
 "cells": [
  {
   "cell_type": "markdown",
   "id": "quick-colleague",
   "metadata": {},
   "source": [
    "# Install Tools"
   ]
  },
  {
   "cell_type": "code",
   "execution_count": 16,
   "id": "middle-adjustment",
   "metadata": {},
   "outputs": [
    {
     "name": "stdout",
     "output_type": "stream",
     "text": [
      "fatal: destination path './tools/lib/CloudScraper' already exists and is not an empty directory.\n",
      "Requirement already satisfied: rfc3987 in /usr/local/lib/python3.9/site-packages (from -r requirements.txt (line 1)) (1.3.8)\n",
      "Requirement already satisfied: termcolor in /usr/local/lib/python3.9/site-packages (from -r requirements.txt (line 2)) (1.1.0)\n",
      "Requirement already satisfied: requests==2.20.0 in /usr/local/lib/python3.9/site-packages (from -r requirements.txt (line 3)) (2.20.0)\n",
      "Requirement already satisfied: BeautifulSoup4 in /usr/local/lib/python3.9/site-packages (from -r requirements.txt (line 4)) (4.9.3)\n",
      "Requirement already satisfied: urllib3<1.25,>=1.21.1 in /usr/local/lib/python3.9/site-packages (from requests==2.20.0->-r requirements.txt (line 3)) (1.24.3)\n",
      "Requirement already satisfied: idna<2.8,>=2.5 in /usr/local/lib/python3.9/site-packages (from requests==2.20.0->-r requirements.txt (line 3)) (2.7)\n",
      "Requirement already satisfied: certifi>=2017.4.17 in /usr/local/lib/python3.9/site-packages (from requests==2.20.0->-r requirements.txt (line 3)) (2020.12.5)\n",
      "Requirement already satisfied: chardet<3.1.0,>=3.0.2 in /usr/local/lib/python3.9/site-packages (from requests==2.20.0->-r requirements.txt (line 3)) (3.0.4)\n",
      "Requirement already satisfied: soupsieve>1.2 in /usr/local/lib/python3.9/site-packages (from BeautifulSoup4->-r requirements.txt (line 4)) (2.2)\n",
      "mkdir: cannot create directory ‘./data/Cloudscraper’: File exists\n",
      "fatal: destination path './tools/lib/Photon' already exists and is not an empty directory.\n",
      "Requirement already satisfied: requests in /usr/local/lib/python3.9/site-packages (from -r requirements.txt (line 1)) (2.20.0)\n",
      "Requirement already satisfied: urllib3 in /usr/local/lib/python3.9/site-packages (from -r requirements.txt (line 3)) (1.24.3)\n",
      "Requirement already satisfied: tld in /usr/local/lib/python3.9/site-packages (from -r requirements.txt (line 4)) (0.12.5)\n",
      "Requirement already satisfied: chardet<3.1.0,>=3.0.2 in /usr/local/lib/python3.9/site-packages (from requests->-r requirements.txt (line 1)) (3.0.4)\n",
      "Requirement already satisfied: idna<2.8,>=2.5 in /usr/local/lib/python3.9/site-packages (from requests->-r requirements.txt (line 1)) (2.7)\n",
      "Requirement already satisfied: certifi>=2017.4.17 in /usr/local/lib/python3.9/site-packages (from requests->-r requirements.txt (line 1)) (2020.12.5)\n",
      "Requirement already satisfied: PySocks!=1.5.7,>=1.5.6 in /usr/local/lib/python3.9/site-packages (from requests->-r requirements.txt (line 1)) (1.7.1)\n"
     ]
    }
   ],
   "source": [
    "## Cloudscraper\n",
    "!git clone https://github.com/jordanpotti/CloudScraper.git ./tools/lib/CloudScraper\n",
    "!cd ./tools/lib/CloudScraper && pip install -r requirements.txt\n",
    "!mkdir ./data/Cloudscraper\n",
    "## Photon\n",
    "!git clone https://github.com/s0md3v/Photon.git ./tools/lib/Photon\n",
    "!cd ./tools/lib/Photon && pip install -r requirements.txt\n",
    "!mkdir ./data/Photon"
   ]
  },
  {
   "cell_type": "code",
   "execution_count": null,
   "id": "italic-architect",
   "metadata": {},
   "outputs": [],
   "source": []
  }
 ],
 "metadata": {
  "kernelspec": {
   "display_name": "Python 3",
   "language": "python",
   "name": "python3"
  },
  "language_info": {
   "codemirror_mode": {
    "name": "ipython",
    "version": 3
   },
   "file_extension": ".py",
   "mimetype": "text/x-python",
   "name": "python",
   "nbconvert_exporter": "python",
   "pygments_lexer": "ipython3",
   "version": "3.9.2"
  }
 },
 "nbformat": 4,
 "nbformat_minor": 5
}
