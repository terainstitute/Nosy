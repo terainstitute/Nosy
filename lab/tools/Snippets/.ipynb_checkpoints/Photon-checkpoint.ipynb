{
 "cells": [
  {
   "cell_type": "markdown",
   "id": "decent-speaker",
   "metadata": {},
   "source": [
    "# About: Photon - Webcrawler"
   ]
  },
  {
   "cell_type": "markdown",
   "id": "designed-elements",
   "metadata": {},
   "source": [
    "Incredibly fast crawler designed for OSINT. \n",
    "Documentation: https://github.com/s0md3v/Photon/wiki"
   ]
  },
  {
   "cell_type": "markdown",
   "id": "neural-investigation",
   "metadata": {
    "tags": []
   },
   "source": [
    "## Install (only run first time use)"
   ]
  },
  {
   "cell_type": "markdown",
   "id": "abstract-coverage",
   "metadata": {},
   "source": [
    "# Setup"
   ]
  },
  {
   "cell_type": "markdown",
   "id": "reflected-reality",
   "metadata": {},
   "source": [
    "First we need to define which url we would like to crawl an where we want to put the results"
   ]
  },
  {
   "cell_type": "code",
   "execution_count": 1,
   "id": "cheap-april",
   "metadata": {},
   "outputs": [],
   "source": [
    "url = \"waz.de\""
   ]
  },
  {
   "cell_type": "code",
   "execution_count": 2,
   "id": "likely-corruption",
   "metadata": {},
   "outputs": [],
   "source": [
    "depth = 1"
   ]
  },
  {
   "cell_type": "code",
   "execution_count": 3,
   "id": "disabled-thompson",
   "metadata": {},
   "outputs": [
    {
     "data": {
      "text/plain": [
       "'../data/Photon/waz.de'"
      ]
     },
     "execution_count": 3,
     "metadata": {},
     "output_type": "execute_result"
    }
   ],
   "source": [
    "import re\n",
    "outputPath = \"../data/Photon/\" + re.sub('[^a-zA-Z0-9 \\n\\.]', '-', url)\n",
    "outputPath"
   ]
  },
  {
   "cell_type": "markdown",
   "id": "aerial-audio",
   "metadata": {},
   "source": [
    "# Run"
   ]
  },
  {
   "cell_type": "markdown",
   "id": "extensive-needle",
   "metadata": {},
   "source": [
    "photon can be configured in many ways - this is a standard configuration only collecting urls"
   ]
  },
  {
   "cell_type": "code",
   "execution_count": 13,
   "id": "asian-friend",
   "metadata": {
    "tags": []
   },
   "outputs": [
    {
     "name": "stdout",
     "output_type": "stream",
     "text": [
      "\u001b[91m      ____  __          __\n",
      "     / \u001b[97m__\u001b[91m \\/ /_  ____  / /_____  ____\n",
      "    / \u001b[97m/_/\u001b[91m / __ \\/ \u001b[97m__\u001b[91m \\/ __/ \u001b[97m__\u001b[91m \\/ __ \\\n",
      "   / ____/ / / / \u001b[97m/_/\u001b[91m / /_/ \u001b[97m/_/\u001b[91m / / / /\n",
      "  /_/   /_/ /_/\\____/\\__/\\____/_/ /_/ \u001b[97mv1.3.2\u001b[0m\n",
      "\n",
      "\u001b[92m[+]\u001b[0m URLs retrieved from robots.txt: 2\n",
      "\u001b[97m[~]\u001b[0m Level 1: 3 URLs\n",
      "\u001b[93m[!]\u001b[0m Progress: 3/3\n",
      "Traceback (most recent call last):\n",
      "  File \"/lab/tools/lib/Photon/photon.py\", line 378, in <module>\n",
      "    os.mkdir(output_dir) # create a new directory\n",
      "FileNotFoundError: [Errno 2] No such file or directory: '../data/Photon/waz.de'\n"
     ]
    }
   ],
   "source": [
    "!python tools/lib/Photon/photon.py -u {url} -l {depth} -o {outputPath} --only-urls"
   ]
  },
  {
   "cell_type": "code",
   "execution_count": 31,
   "id": "north-simon",
   "metadata": {},
   "outputs": [],
   "source": [
    "! ls ../data/"
   ]
  },
  {
   "cell_type": "markdown",
   "id": "scheduled-content",
   "metadata": {},
   "source": [
    "# View Results"
   ]
  },
  {
   "cell_type": "markdown",
   "id": "talented-tractor",
   "metadata": {},
   "source": [
    "Navigate to the output folder to view results\n"
   ]
  }
 ],
 "metadata": {
  "kernelspec": {
   "display_name": "Python 3",
   "language": "python",
   "name": "python3"
  },
  "language_info": {
   "codemirror_mode": {
    "name": "ipython",
    "version": 3
   },
   "file_extension": ".py",
   "mimetype": "text/x-python",
   "name": "python",
   "nbconvert_exporter": "python",
   "pygments_lexer": "ipython3",
   "version": "3.9.2"
  },
  "toc-autonumbering": true,
  "toc-showcode": true,
  "toc-showmarkdowntxt": false
 },
 "nbformat": 4,
 "nbformat_minor": 5
}
