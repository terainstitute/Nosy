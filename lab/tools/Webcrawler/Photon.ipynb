{
 "cells": [
  {
   "cell_type": "markdown",
   "id": "satellite-funds",
   "metadata": {},
   "source": [
    "# About: Photon - Webcrawler"
   ]
  },
  {
   "cell_type": "markdown",
   "id": "local-chinese",
   "metadata": {},
   "source": [
    "Incredibly fast crawler designed for OSINT. \n",
    "Documentation: https://github.com/s0md3v/Photon/wiki"
   ]
  },
  {
   "cell_type": "markdown",
   "id": "structured-stable",
   "metadata": {},
   "source": [
    "# Setup"
   ]
  },
  {
   "cell_type": "markdown",
   "id": "polar-landing",
   "metadata": {},
   "source": [
    "First we need to define which url we would like to crawl an where we want to put the results"
   ]
  },
  {
   "cell_type": "code",
   "execution_count": 46,
   "id": "faced-estate",
   "metadata": {},
   "outputs": [],
   "source": [
    "url = \"waz.de\""
   ]
  },
  {
   "cell_type": "code",
   "execution_count": 47,
   "id": "specialized-subscriber",
   "metadata": {},
   "outputs": [],
   "source": [
    "depth = 1"
   ]
  },
  {
   "cell_type": "code",
   "execution_count": 48,
   "id": "coordinated-enterprise",
   "metadata": {},
   "outputs": [
    {
     "data": {
      "text/plain": [
       "'../data/Photon/waz.de'"
      ]
     },
     "execution_count": 48,
     "metadata": {},
     "output_type": "execute_result"
    }
   ],
   "source": [
    "import re\n",
    "outputPath = \"../data/Photon/\" + re.sub('[^a-zA-Z0-9 \\n\\.]', '-', url)\n",
    "outputPath"
   ]
  },
  {
   "cell_type": "markdown",
   "id": "detailed-projector",
   "metadata": {},
   "source": [
    "# Run"
   ]
  },
  {
   "cell_type": "markdown",
   "id": "canadian-douglas",
   "metadata": {},
   "source": [
    "photon can be configured in many ways - this is a standard configuration only collecting urls"
   ]
  },
  {
   "cell_type": "code",
   "execution_count": 45,
   "id": "further-winner",
   "metadata": {
    "tags": []
   },
   "outputs": [
    {
     "name": "stdout",
     "output_type": "stream",
     "text": [
      "\u001b[91m      ____  __          __\n",
      "     / \u001b[97m__\u001b[91m \\/ /_  ____  / /_____  ____\n",
      "    / \u001b[97m/_/\u001b[91m / __ \\/ \u001b[97m__\u001b[91m \\/ __/ \u001b[97m__\u001b[91m \\/ __ \\\n",
      "   / ____/ / / / \u001b[97m/_/\u001b[91m / /_/ \u001b[97m/_/\u001b[91m / / / /\n",
      "  /_/   /_/ /_/\\____/\\__/\\____/_/ /_/ \u001b[97mv1.3.2\u001b[0m\n",
      "\n",
      "\u001b[92m[+]\u001b[0m URLs retrieved from robots.txt: 2\n",
      "\u001b[97m[~]\u001b[0m Level 1: 3 URLs\n",
      "\u001b[93m[!]\u001b[0m Progress: 3/3\n",
      "\u001b[91m-\u001b[0m\u001b[91m-\u001b[0m\u001b[91m-\u001b[0m\u001b[91m-\u001b[0m\u001b[91m-\u001b[0m\u001b[91m-\u001b[0m\u001b[91m-\u001b[0m\u001b[91m-\u001b[0m\u001b[91m-\u001b[0m\u001b[91m-\u001b[0m\u001b[91m-\u001b[0m\u001b[91m-\u001b[0m\u001b[91m-\u001b[0m\u001b[91m-\u001b[0m\u001b[91m-\u001b[0m\u001b[91m-\u001b[0m\u001b[91m-\u001b[0m\u001b[91m-\u001b[0m\u001b[91m-\u001b[0m\u001b[91m-\u001b[0m\u001b[91m-\u001b[0m\u001b[91m-\u001b[0m\u001b[91m-\u001b[0m\u001b[91m-\u001b[0m\u001b[91m-\u001b[0m\u001b[91m-\u001b[0m\u001b[91m-\u001b[0m\u001b[91m-\u001b[0m\u001b[91m-\u001b[0m\u001b[91m-\u001b[0m\u001b[91m-\u001b[0m\u001b[91m-\u001b[0m\u001b[91m-\u001b[0m\u001b[91m-\u001b[0m\u001b[91m-\u001b[0m\u001b[91m-\u001b[0m\u001b[91m-\u001b[0m\u001b[91m-\u001b[0m\u001b[91m-\u001b[0m\u001b[91m-\u001b[0m\u001b[91m-\u001b[0m\u001b[91m-\u001b[0m\u001b[91m-\u001b[0m\u001b[91m-\u001b[0m\u001b[91m-\u001b[0m\u001b[91m-\u001b[0m\u001b[91m-\u001b[0m\u001b[91m-\u001b[0m\u001b[91m-\u001b[0m\u001b[91m-\u001b[0m\n",
      "\u001b[92m[+]\u001b[0m Robots: 2\n",
      "\u001b[92m[+]\u001b[0m Internal: 3\n",
      "\u001b[91m-\u001b[0m\u001b[91m-\u001b[0m\u001b[91m-\u001b[0m\u001b[91m-\u001b[0m\u001b[91m-\u001b[0m\u001b[91m-\u001b[0m\u001b[91m-\u001b[0m\u001b[91m-\u001b[0m\u001b[91m-\u001b[0m\u001b[91m-\u001b[0m\u001b[91m-\u001b[0m\u001b[91m-\u001b[0m\u001b[91m-\u001b[0m\u001b[91m-\u001b[0m\u001b[91m-\u001b[0m\u001b[91m-\u001b[0m\u001b[91m-\u001b[0m\u001b[91m-\u001b[0m\u001b[91m-\u001b[0m\u001b[91m-\u001b[0m\u001b[91m-\u001b[0m\u001b[91m-\u001b[0m\u001b[91m-\u001b[0m\u001b[91m-\u001b[0m\u001b[91m-\u001b[0m\u001b[91m-\u001b[0m\u001b[91m-\u001b[0m\u001b[91m-\u001b[0m\u001b[91m-\u001b[0m\u001b[91m-\u001b[0m\u001b[91m-\u001b[0m\u001b[91m-\u001b[0m\u001b[91m-\u001b[0m\u001b[91m-\u001b[0m\u001b[91m-\u001b[0m\u001b[91m-\u001b[0m\u001b[91m-\u001b[0m\u001b[91m-\u001b[0m\u001b[91m-\u001b[0m\u001b[91m-\u001b[0m\u001b[91m-\u001b[0m\u001b[91m-\u001b[0m\u001b[91m-\u001b[0m\u001b[91m-\u001b[0m\u001b[91m-\u001b[0m\u001b[91m-\u001b[0m\u001b[91m-\u001b[0m\u001b[91m-\u001b[0m\u001b[91m-\u001b[0m\u001b[91m-\u001b[0m\n",
      "\u001b[93m[!]\u001b[0m Total requests made: 4\n",
      "\u001b[93m[!]\u001b[0m Total time taken: 0 minutes 1 seconds\n",
      "\u001b[93m[!]\u001b[0m Requests per second: 2\n",
      "\u001b[92m[+]\u001b[0m Results saved in \u001b[92m./data/Photon/waz.de\u001b[0m directory\n"
     ]
    }
   ],
   "source": [
    "!python tools/lib/Photon/photon.py -u {url} -l {depth} -o {outputPath} --only-urls"
   ]
  },
  {
   "cell_type": "code",
   "execution_count": 50,
   "id": "third-transfer",
   "metadata": {},
   "outputs": [
    {
     "name": "stdout",
     "output_type": "stream",
     "text": [
      "README.md  cases  data\ttools\n"
     ]
    }
   ],
   "source": [
    "!ls"
   ]
  },
  {
   "cell_type": "markdown",
   "id": "under-affiliation",
   "metadata": {},
   "source": [
    "# View Results"
   ]
  },
  {
   "cell_type": "markdown",
   "id": "capable-physics",
   "metadata": {},
   "source": [
    "Navigate to the output folder to view results\n"
   ]
  }
 ],
 "metadata": {
  "kernelspec": {
   "display_name": "Python 3",
   "language": "python",
   "name": "python3"
  },
  "language_info": {
   "codemirror_mode": {
    "name": "ipython",
    "version": 3
   },
   "file_extension": ".py",
   "mimetype": "text/x-python",
   "name": "python",
   "nbconvert_exporter": "python",
   "pygments_lexer": "ipython3",
   "version": "3.9.2"
  },
  "toc-autonumbering": true,
  "toc-showcode": true,
  "toc-showmarkdowntxt": false
 },
 "nbformat": 4,
 "nbformat_minor": 5
}
